{
    "cells": [
        {
            "metadata": {
                "collapsed": true
            },
            "cell_type": "markdown",
            "source": "<h1><center>Capstone Project - The Battle of Neighborhoods</center></h1>\n<h2><center>Opening a Restaurant in Chennai</center></h2>\n<center>Suraj Eswaran</center>\n<img src=\"https://meghasreeram.files.wordpress.com/2017/05/chennai.jpg?w=640\">"
        },
        {
            "metadata": {},
            "cell_type": "markdown",
            "source": "## Vanakkam Chennai"
        },
        {
            "metadata": {},
            "cell_type": "markdown",
            "source": "<img src=\"https://upload.wikimedia.org/wikipedia/commons/thumb/c/c4/Chennai_Montage.jpg/275px-Chennai_Montage.jpg\">\n\n<div style=\"text-align:justify\">\nChennai is the capital city of Tamil Nadu in India.Located on the Coromandel coast of the Bay of Bengal,Chennai enjoys commercial,cultural and educational center in South India.That is why,Chennai is known as the cultural capital of South India.Over the recent years, Chennai is recognized as the largest exporter of services for IT and BPO.The Chennai Metropolitan Area is one of the largest municipal economies of India. Chennai is nicknamed \"The Detroit of India\",with more than one-third of India's automobile industry being based in the city. Home to the Tamil film industry, Chennai is also known as a major film production centre.Chennai is one of the 100 Indian cities to be developed as a smart city under the Smart Cities Mission.Chennai hosts cultural events in its vicinity. The Madras Music Session is one of them.The classical dance form of Tamilians is Bharatanatyam.Kollywood is the Tamil film industry located in the city that has great movies made over the years.</div>"
        },
        {
            "metadata": {},
            "cell_type": "markdown",
            "source": "<img src=\"data:image/jpeg;base64,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\">\n"
        },
        {
            "metadata": {},
            "cell_type": "markdown",
            "source": "<p style='text-align: justify;'>Chennai is located at 13.04\u00b0N 80.17\u00b0E on the southeast coast of India and in the northeast corner of Tamil Nadu. It is located on a flat coastal plain known as the Eastern Coastal Plains. The city has an average elevation of 6 metres (20 ft), its highest point being 60 m (200 ft).Chennai features a tropical wet and dry climate.Chennai lies on the thermal equator and is also coastal, which prevents extreme variation in seasonal temperature.For most of the year, the weather is hot and humid.The hottest part of the year is late May and early June, known locally as Agni Nakshatram (\"fiery star\") or as Kathiri Veyyil, with maximum temperatures around 100\u2013108 \u00b0F.The coolest part of the year is January, with minimum temperatures around 64\u201368 \u00b0F.The lowest temperature recorded is 57.0 \u00b0F and highest 113 \u00b0F.Chennai is well connected by road, rail, air, and sea. It has an international airport and seaport. Within the city a network of bus services and auto-rickshaws are common modes of transport. The historic town of Mamallapuram with its shore temple, about 37 miles (60 km) south of Chennai, is a popular tourist destination.\n</p>\n<img src=\"https://www.tripsavvy.com/thmb/xr_UdfffyqgA0xH4NWaCfsHWUgk=/1989x1326/filters:fill(auto,1)/GettyImages-579760012-b78004a355354623924eda63842ac3a9.jpg\">"
        },
        {
            "metadata": {},
            "cell_type": "markdown",
            "source": "## Problem Description"
        },
        {
            "metadata": {},
            "cell_type": "markdown",
            "source": "<p style='text-align: justify;'>Chennai has witnessed a dramatic growth over the couple of years.Even though it has various diversity of choices,it is necessary to know about diversity of the business problem which we will discuss in the later sections in order to understand the choice of food that chennaiites prefer to eat,which can help us open a restaurant in chennai.Starting a restaurant deals with various factors before investors take place in this business.So,my project is all about analyzing various restaurants in chennai and preferred kind of restuarant to start at chennai. </p>\n<img src=\"https://i1.wp.com/chennaifoodblog.in/wp-content/uploads/2018/09/Superstar-Pizza.jpg?resize=708%2C369\">"
        },
        {
            "metadata": {},
            "cell_type": "markdown",
            "source": "<p style='text-align: justify;'>Places like Triplicane where we can witness different kinds of restaurants.One side,it has Nawabi style restaurant and other side it has south indian ratna cafe.We can find even Kerala based restaurant where malabar parottas is famous.  \nMylapore is home to many bhavans that are temples of Tamilian and Chettinad tiffin. Adyar Ananda Bhavan and Saravana Bhavan tower over the Kapali Temple tank, their neon light shimmering across its surface by night. But it is places like KPGM Mess and Kaiyendi Bhavan you should opt for to get a taste of real tiffin without the spin.</p>"
        },
        {
            "metadata": {},
            "cell_type": "markdown",
            "source": "## Background Description "
        },
        {
            "metadata": {},
            "cell_type": "markdown",
            "source": "<p style='text-align: justify;'>Even though restaurant food is considered to be unhealthy,food has been the most popular aspect in Chennai.Idly Sambar is one such south indian food which is served at breakfast, tiffin and dinner.Apart from this, there are various kinds of restaurants that are also popular in Chennai.Burmese and Gujarati restaurants are so popular in Chennai.</p> "
        },
        {
            "metadata": {},
            "cell_type": "markdown",
            "source": "<img src=\"https://i.ytimg.com/vi/Ro8LDIUm9l0/maxresdefault.jpg\">"
        },
        {
            "metadata": {},
            "cell_type": "markdown",
            "source": "## Data Description "
        },
        {
            "metadata": {},
            "cell_type": "markdown",
            "source": "<p style='text-align: justify;'>For this project,I have take list of areas of chennai from Wikipedia which consist of 15 zones with 200 wards.For obtaining the venue details,we have utilized the FourSquare API.</p> \n\n<ol> <li>https://en.wikipedia.org/wiki/Areas_of_Chennai</li>\n<li>https://foursquare.com/</li>\n</ol>"
        },
        {
            "metadata": {},
            "cell_type": "markdown",
            "source": "## Methodology "
        },
        {
            "metadata": {},
            "cell_type": "markdown",
            "source": "<p style='text-align: justify;'>I utilized the concept of web scrapping from list of areas of chennai.Along with that,we have used public libraries and API's like FourSquare API.Web Scrapping is a way of exporting a data from the website as we don't find all the data in CSV format.When we scrape a web,we write code that sends a request to the server that\u2019s hosting the page we specified. </p>  "
        },
        {
            "metadata": {},
            "cell_type": "markdown",
            "source": "Steps involves: \n<ol>\n  <li>Data is collected from Wikipedia and performed data cleaning and processsed to a dataframe.</li>\n  <li>For finding the latitude and longitude, we have utilized the Foursquare API.</li>\n  <li>Perform one hot encoding adn found 10 common venues at various areas.</li>\n  <li>Utilized K-Nearest Cluster to find the best restaurant to start at chennai.</li>  \n</ol>"
        }
    ],
    "metadata": {
        "kernelspec": {
            "name": "python3",
            "display_name": "Python 3.7",
            "language": "python"
        },
        "language_info": {
            "name": "python",
            "version": "3.7.10",
            "mimetype": "text/x-python",
            "codemirror_mode": {
                "name": "ipython",
                "version": 3
            },
            "pygments_lexer": "ipython3",
            "nbconvert_exporter": "python",
            "file_extension": ".py"
        }
    },
    "nbformat": 4,
    "nbformat_minor": 1
}